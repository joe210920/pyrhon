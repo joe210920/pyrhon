{
  "nbformat": 4,
  "nbformat_minor": 0,
  "metadata": {
    "colab": {
      "name": "readfile.ipynb",
      "provenance": [],
      "collapsed_sections": []
    },
    "kernelspec": {
      "name": "python3",
      "display_name": "Python 3"
    }
  },
  "cells": [
    {
      "cell_type": "markdown",
      "metadata": {
        "id": "moyemPb-8kxu",
        "colab_type": "text"
      },
      "source": [
        "###安裝jieba分詞套件"
      ]
    },
    {
      "cell_type": "code",
      "metadata": {
        "id": "R2h97j3pppJn",
        "colab_type": "code",
        "colab": {
          "base_uri": "https://localhost:8080/",
          "height": 34
        },
        "outputId": "65b07aae-d37b-490c-d500-e56e89422e2e"
      },
      "source": [
        "\n",
        "!pip install jieba\n"
      ],
      "execution_count": 1,
      "outputs": [
        {
          "output_type": "stream",
          "text": [
            "Requirement already satisfied: jieba in /usr/local/lib/python3.6/dist-packages (0.42.1)\n"
          ],
          "name": "stdout"
        }
      ]
    },
    {
      "cell_type": "markdown",
      "metadata": {
        "id": "WKcQ9bLw8v7f",
        "colab_type": "text"
      },
      "source": [
        "###下載網路上的txt檔"
      ]
    },
    {
      "cell_type": "code",
      "metadata": {
        "id": "vI-MYFY4p5Nc",
        "colab_type": "code",
        "colab": {
          "base_uri": "https://localhost:8080/",
          "height": 202
        },
        "outputId": "352fc091-57a0-414d-f0dd-2d79ea7aef8d"
      },
      "source": [
        "! wget https://raw.githubusercontent.com/ywchiu/tibamedl/master/Data/speech_tsai.txt\n",
        " "
      ],
      "execution_count": 2,
      "outputs": [
        {
          "output_type": "stream",
          "text": [
            "--2020-03-15 05:26:59--  https://raw.githubusercontent.com/ywchiu/tibamedl/master/Data/speech_tsai.txt\n",
            "Resolving raw.githubusercontent.com (raw.githubusercontent.com)... 151.101.0.133, 151.101.64.133, 151.101.128.133, ...\n",
            "Connecting to raw.githubusercontent.com (raw.githubusercontent.com)|151.101.0.133|:443... connected.\n",
            "HTTP request sent, awaiting response... 200 OK\n",
            "Length: 6579 (6.4K) [text/plain]\n",
            "Saving to: ‘speech_tsai.txt’\n",
            "\n",
            "speech_tsai.txt     100%[===================>]   6.42K  --.-KB/s    in 0s      \n",
            "\n",
            "2020-03-15 05:27:05 (108 MB/s) - ‘speech_tsai.txt’ saved [6579/6579]\n",
            "\n"
          ],
          "name": "stdout"
        }
      ]
    },
    {
      "cell_type": "markdown",
      "metadata": {
        "id": "c_sCEr498989",
        "colab_type": "text"
      },
      "source": [
        "###將剛下載的檔案讀取，並做分詞排序\n"
      ]
    },
    {
      "cell_type": "code",
      "metadata": {
        "id": "JSVksmNHqNXW",
        "colab_type": "code",
        "colab": {}
      },
      "source": [
        "with open('speech_tsai.txt', 'r', encoding='utf-8') as f:\n",
        "  speech = f.read()\n",
        "\n",
        "\n",
        "\n",
        "import jieba\n",
        "\n",
        "word = list(jieba.cut(speech))\n",
        "\n",
        "dec = {}\n",
        "for i in word:\n",
        "  if i not in dec:\n",
        "    dec[i] = 1 \n",
        "  else:\n",
        "    dec[i] = dec[i] + 1\n",
        "\n",
        "swd = sorted(dec.items(), key = lambda dec : dec[1], reverse = True)\n",
        "\n",
        "for k, v in swd[0 :30]:\n",
        "  if len(k) >= 2:\n",
        "    print(k, v)\n"
      ],
      "execution_count": 0,
      "outputs": []
    }
  ]
}